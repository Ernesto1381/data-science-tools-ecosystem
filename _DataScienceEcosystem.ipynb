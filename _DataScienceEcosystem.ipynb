{
 "cells": [
  {
   "cell_type": "markdown",
   "metadata": {},
   "source": [
    "<center>\n",
    "    <img src=\"https://cf-courses-data.s3.us.cloud-object-storage.appdomain.cloud/IBMDeveloperSkillsNetwork-DS0105EN-SkillsNetwork/labs/Module2/images/SN_web_lightmode.png\" width=\"300\" alt=\"cognitiveclass.ai logo\">\n",
    "</center>\n"
   ]
  },
  {
   "cell_type": "markdown",
   "metadata": {
    "tags": []
   },
   "source": [
    "# Data Science Tools and Ecosystem "
   ]
  },
  {
   "cell_type": "markdown",
   "metadata": {
    "tags": []
   },
   "source": [
    "## In this notebook, Data Science Tools and Ecosystem are summarized."
   ]
  },
  {
   "cell_type": "markdown",
   "metadata": {},
   "source": [
    "## Objectives:\n",
    "\n",
    "In this notebook, we have covered the following key objectives:\n",
    "\n",
    "- List popular programming languages for Data Science.\n",
    "- Introduce common Data Science libraries and frameworks.\n",
    "- Demonstrate basic arithmetic operations and expression evaluation.\n",
    "- Showcase how to convert minutes to hours using Python.\n",
    "- Provide an understanding of commenting and code documentation in Jupyter Notebook.\n"
   ]
  },
  {
   "cell_type": "markdown",
   "metadata": {},
   "source": [
    "### Some of the popular languages that Data Scientists use are:"
   ]
  },
  {
   "cell_type": "markdown",
   "metadata": {},
   "source": [
    "\n",
    "1. Python: sintaxis intuitiva, gran número de recursos, extensas bibliotecas para análisis de datos, visualización y aprendizaje automático.\n",
    "2. R: capacidades de minería de datos y análisis estadístico, robusta comunidad de apoyo.\n",
    "3. SQL: crucial para consultar datos y administrar bases de datos.\n",
    "4. Java: ampliamente utilizado para sistemas empresariales y procesamiento de big data.\n",
    "5. C/C++: lenguajes de alto rendimiento que requieren un fuerte conocimiento de los fundamentos de la codificación.\n",
    "\n",
    "##### Note: There are also other languages that are used for data science, such as Scala, Julia, Closure, Lisp, Perl, etc.\n"
   ]
  },
  {
   "cell_type": "markdown",
   "metadata": {},
   "source": [
    "## Some of the commonly used libraries used by Data Scientists include:"
   ]
  },
  {
   "cell_type": "markdown",
   "metadata": {},
   "source": [
    "### Python\n",
    "\n",
    "1.  NumPy: A fundamental package for scientific computing with Python.\n",
    "2.  Pandas: A powerful library for data manipulation and analysis.\n",
    "3.  Matplotlib: Widely used for creating static, animated, and interactive visualizations in Python.\n",
    "4.  Seaborn: A statistical data visualization library based on Matplotlib.\n",
    "5.  Scikit-learn: Offers simple and efficient tools for data mining and data analysis.\n",
    "6.  Statsmodels: A library for estimating and interpreting statistical models.\n",
    "7.  TensorFlow: An open-source machine learning framework developed by Google.\n",
    "8.  PyTorch: An open-source machine learning library developed by Facebook's AI Research lab.\n",
    "9.  NLTK: A natural language processing library that provides tools for working with human language data.\n",
    "10. Beautiful Soup: A library for pulling data out of HTML and XML files.\n",
    "11. NetworkX: A library for the creation, manipulation, and study of complex networks.\n",
    "\n",
    "### R\n",
    "\n",
    "1. ggplot2: A library for creating elegant and sophisticated visualizations in R.\n",
    "2. dplyr: A package for data manipulation and transformation.\n",
    "3. tidyr: A package for organizing and cleaning messy data.\n",
    "4. caret: A package that provides tools for training and evaluating machine learning models.\n",
    "5. lubridate: A package for working with dates and times more conveniently.\n",
    "6. tm: A package for text processing and text mining in R.\n",
    "7. rvest: A package for web scraping and information extraction from web pages.\n",
    "8. network: A package for network analysis in R.\n",
    "9. forecast: A package for time series forecasting.\n",
    "\n",
    "\n",
    "### Scala\n",
    "\n",
    "1. Breeze: A numerical processing library for Scala, providing support for linear algebra, numerical optimization, and more.\n",
    "2. Spark MLlib: A machine learning library for Apache Spark, designed for distributed computing.\n",
    "3. Ammonite: An advanced Scala REPL that also serves as a scriptable file system shell and a high-level build tool.\n",
    "\n",
    "\n"
   ]
  },
  {
   "cell_type": "markdown",
   "metadata": {},
   "source": [
    "## Data Science Tools\n",
    "\n",
    "| Language   | Libraries/Frameworks               | Description                                 |\n",
    "|------------|-----------------------------------|---------------------------------------------|\n",
    "| Python     | NumPy, Pandas, Matplotlib, Seaborn | Fundamental tools for data manipulation, analysis, and visualization. |\n",
    "|            | Scikit-learn, Statsmodels         | Machine learning and statistical modeling libraries. |\n",
    "|            | TensorFlow, PyTorch, NLTK         | Deep learning frameworks and natural language processing tools. |\n",
    "|            | Beautiful Soup, NetworkX          | Data scraping and network analysis libraries. |\n",
    "| R          | ggplot2, dplyr, tidyr             | Visualization and data manipulation in R. |\n",
    "|            | caret, lubridate, tm              | Machine learning, date/time manipulation, and text mining tools. |\n",
    "|            | rvest, network, forecast          | Web scraping, network analysis, and time series forecasting. |\n",
    "| Scala      | Breeze, Spark MLlib, Ammonite     | Numerical processing, distributed data processing, and scripting. |\n",
    "\n"
   ]
  },
  {
   "cell_type": "markdown",
   "metadata": {},
   "source": [
    "### Below are a few examples of evaluating arithmetic expressions in Python\n",
    "\n",
    "Arithmetic expressions are fundamental in mathematics and programming. They involve various mathematical operations such as addition, subtraction, multiplication, and division. Here are some examples of arithmetic expressions:\n",
    "\n",
    "1. Addition:\n",
    "   ```\n",
    "   5 + 3\n",
    "   Result: 8\n",
    "   ```\n",
    "\n",
    "2. Subtraction:\n",
    "   ```\n",
    "   10 - 4\n",
    "   Result: 6\n",
    "   ```\n",
    "\n",
    "3. Multiplication:\n",
    "   ```\n",
    "   2 * 7\n",
    "   Result: 14\n",
    "   ```\n",
    "\n",
    "4. Division:\n",
    "   ```\n",
    "   15 / 3\n",
    "   Result: 5\n",
    "   ```\n",
    "\n",
    "\n",
    "5. Combination of Operations:\n",
    "   ```\n",
    "   (6 + 3) * 2 - 7\n",
    "   Result: 11\n",
    "   ```\n",
    "\n",
    "\n",
    "6. Using Variables:\n",
    "   ```\n",
    "   x = 5\n",
    "   y = 3\n",
    "   x * y\n",
    "   Result: 15\n",
    "   ```\n"
   ]
  },
  {
   "cell_type": "code",
   "execution_count": 18,
   "metadata": {
    "tags": []
   },
   "outputs": [
    {
     "name": "stdout",
     "output_type": "stream",
     "text": [
      "Result: 17\n"
     ]
    }
   ],
   "source": [
    "# This a simple arithmetic expression to mutiply then add integers:\n",
    "\n",
    "result = (3 * 4) + 5\n",
    "print(\"Result:\", result)"
   ]
  },
  {
   "cell_type": "markdown",
   "metadata": {
    "tags": []
   },
   "source": [
    "### Conversion from minutes to hours"
   ]
  },
  {
   "cell_type": "code",
   "execution_count": 19,
   "metadata": {
    "tags": []
   },
   "outputs": [
    {
     "name": "stdout",
     "output_type": "stream",
     "text": [
      "Minutes: 200\n",
      "Hours: 3.3333333333333335\n"
     ]
    }
   ],
   "source": [
    "# Explanation: This will convert 200 minutes to hours by dividing by 60\n",
    "\n",
    "minutes = 200\n",
    "hours = minutes / 60\n",
    "\n",
    "print(\"Minutes:\", minutes)\n",
    "print(\"Hours:\", hours)\n"
   ]
  },
  {
   "cell_type": "markdown",
   "metadata": {},
   "source": [
    "## Author\n",
    "\n",
    "Ernesto Hernández "
   ]
  }
 ],
 "metadata": {
  "kernelspec": {
   "display_name": "Python",
   "language": "python",
   "name": "conda-env-python-py"
  },
  "language_info": {
   "codemirror_mode": {
    "name": "ipython",
    "version": 3
   },
   "file_extension": ".py",
   "mimetype": "text/x-python",
   "name": "python",
   "nbconvert_exporter": "python",
   "pygments_lexer": "ipython3",
   "version": "3.7.12"
  }
 },
 "nbformat": 4,
 "nbformat_minor": 4
}
